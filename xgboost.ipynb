{
  "nbformat_minor": 0,
  "cells": [
    {
      "source": "from sklearn import *\nimport sklearn\nimport pandas as pd\nimport numpy as np\nimport xgboost as xgb\n\ntrain = pd.read_csv('../input/training_variants')\ntest = pd.read_csv('../input/test_variants')\ntrainx = pd.read_csv('../input/training_text', sep=\"\\|\\|\", engine='python', header=None, skiprows=1, names=[\"ID\",\"Text\"])\ntestx = pd.read_csv('../input/test_text', sep=\"\\|\\|\", engine='python', header=None, skiprows=1, names=[\"ID\",\"Text\"])\n\ntrain = pd.merge(train, trainx, how='left', on='ID')\ny = train['Class'].values\ntrain = train.drop('Class', axis=1)\n\ntest = pd.merge(test, testx, how='left', on='ID')\npid = test['ID'].values\n\nfor c in train.columns:\n    if train[c].dtype == 'object' and c !='Text':\n        lbl = preprocessing.LabelEncoder(); print(c)\n        lbl.fit(list(train[c].values) + list(test[c].values))\n        train[c+'_lbl_enc'] = lbl.transform(list(train[c].values))\n        test[c+'_lbl_enc'] = lbl.transform(list(test[c].values))\n    if train[c].dtype == 'object':\n        train[c+'_len'] = train[c].map(lambda x: len(str(x)))\n        train[c+'_words'] = train[c].map(lambda x: len(str(x).split(' ')))\n        \n        test[c+'_len'] = test[c].map(lambda x: len(str(x)))\n        test[c+'_words'] = test[c].map(lambda x: len(str(x).split(' ')))\n\nclass cust_regression_vals(sklearn.base.BaseEstimator, sklearn.base.TransformerMixin):\n    def fit(self, x, y=None):\n        return self\n    def transform(self, x):\n        x = x.drop(['Gene', 'Variation','ID','Text'],axis=1).values\n        return x\n\nclass cust_txt_col(sklearn.base.BaseEstimator, sklearn.base.TransformerMixin):\n    def __init__(self, key):\n        self.key = key\n    def fit(self, x, y=None):\n        return self\n    def transform(self, x):\n        return x[self.key].apply(str)\n\nfp = pipeline.Pipeline([\n    ('union', pipeline.FeatureUnion(\n        n_jobs = -1,\n        transformer_list = [\n            ('standard', cust_regression_vals()),\n            ('pi1', pipeline.Pipeline([('Gene', cust_txt_col('Gene')), ('count_Gene', feature_extraction.text.CountVectorizer(analyzer=u'char', ngram_range=(1, 8))), ('tsvd1', decomposition.TruncatedSVD(n_components=20, n_iter=25, random_state=12))])),\n            ('pi2', pipeline.Pipeline([('Variation', cust_txt_col('Variation')), ('count_Variation', feature_extraction.text.CountVectorizer(analyzer=u'char', ngram_range=(1, 8))), ('tsvd2', decomposition.TruncatedSVD(n_components=20, n_iter=25, random_state=12))])),\n            #uncomment below for full score - disabling for Kaggle limits\n            #('pi3', pipeline.Pipeline([('Text', cust_txt_col('Text')), ('tfidf_Text', feature_extraction.text.TfidfVectorizer(ngram_range=(1, 2))), ('tsvd3', decomposition.TruncatedSVD(n_components=50, n_iter=25, random_state=12))]))\n        ])\n    )])\n\ntrain = fp.fit_transform(train); print(train.shape)\ntest = fp.transform(test); print(test.shape)\n\nparams = {\n    'eta': 0.02,\n    'max_depth': 5,\n    'objective': 'multi:softprob',\n    'eval_metric': 'mlogloss',\n    'num_class': 9,\n    'seed': 12,\n    'silent': True\n}\ny = y - 1 #fix for zero bound array\nfold = 5\nfor i in range(fold):\n    x1, x2, y1, y2 = model_selection.train_test_split(train, y, test_size=0.18, random_state=i)\n    watchlist = [(xgb.DMatrix(x1, y1), 'train'), (xgb.DMatrix(x2, y2), 'valid')]\n    model = xgb.train(params, xgb.DMatrix(x1, y1), 1000,  watchlist, verbose_eval=50, early_stopping_rounds=50)\n    if i != 0:\n        pred += model.predict(xgb.DMatrix(test), ntree_limit=model.best_ntree_limit) / fold\n    else:\n        pred = model.predict(xgb.DMatrix(test), ntree_limit=model.best_ntree_limit) / fold   \nsubmission = pd.DataFrame(pred, columns=['class'+str(c+1) for c in range(9)])\nsubmission['ID'] = pid\nsubmission.to_csv('submission_xgb.csv', index=False)",
      "outputs": [],
      "cell_type": "code",
      "execution_count": null,
      "metadata": {
        "_execution_state": "busy",
        "_cell_guid": "e99beda1-d7bb-4de3-916c-327d1f2d87e2",
        "_uuid": "92a8330e090e0074e540f721894351f10a6946d6",
        "trusted": false
      }
    }
  ],
  "metadata": {
    "language_info": {
      "name": "python",
      "version": "3.6.1",
      "mimetype": "text/x-python",
      "codemirror_mode": {
        "name": "ipython",
        "version": 3
      },
      "pygments_lexer": "ipython3",
      "nbconvert_exporter": "python",
      "file_extension": ".py"
    },
    "kernelspec": {
      "display_name": "Python 3",
      "language": "python",
      "name": "python3"
    }
  },
  "nbformat": 4
}
